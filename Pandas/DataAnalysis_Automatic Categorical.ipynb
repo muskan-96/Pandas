{
 "cells": [
  {
   "cell_type": "code",
   "execution_count": 3,
   "id": "8f45abb1-2af2-4340-9527-1b7060eebe3b",
   "metadata": {},
   "outputs": [],
   "source": [
    "import pandas as pd\n",
    "df=pd.read_csv(\"dataset.csv.csv\").dropna()"
   ]
  },
  {
   "cell_type": "code",
   "execution_count": 5,
   "id": "f6279a28-3da8-4ed7-be56-cf6653841b08",
   "metadata": {},
   "outputs": [
    {
     "data": {
      "text/html": [
       "<div>\n",
       "<style scoped>\n",
       "    .dataframe tbody tr th:only-of-type {\n",
       "        vertical-align: middle;\n",
       "    }\n",
       "\n",
       "    .dataframe tbody tr th {\n",
       "        vertical-align: top;\n",
       "    }\n",
       "\n",
       "    .dataframe thead th {\n",
       "        text-align: right;\n",
       "    }\n",
       "</style>\n",
       "<table border=\"1\" class=\"dataframe\">\n",
       "  <thead>\n",
       "    <tr style=\"text-align: right;\">\n",
       "      <th></th>\n",
       "      <th>App</th>\n",
       "      <th>Category</th>\n",
       "      <th>Rating</th>\n",
       "      <th>Reviews</th>\n",
       "      <th>Size</th>\n",
       "      <th>Installs</th>\n",
       "      <th>Type</th>\n",
       "      <th>Price</th>\n",
       "      <th>Content Rating</th>\n",
       "      <th>Genres</th>\n",
       "      <th>Last Updated</th>\n",
       "      <th>Current Ver</th>\n",
       "      <th>Android Ver</th>\n",
       "    </tr>\n",
       "  </thead>\n",
       "  <tbody>\n",
       "    <tr>\n",
       "      <th>0</th>\n",
       "      <td>Photo Editor &amp; Candy Camera &amp; Grid &amp; ScrapBook</td>\n",
       "      <td>ART_AND_DESIGN</td>\n",
       "      <td>4.1</td>\n",
       "      <td>159</td>\n",
       "      <td>19M</td>\n",
       "      <td>10,000+</td>\n",
       "      <td>Free</td>\n",
       "      <td>0</td>\n",
       "      <td>Everyone</td>\n",
       "      <td>Art &amp; Design</td>\n",
       "      <td>January 7, 2018</td>\n",
       "      <td>1.0.0</td>\n",
       "      <td>4.0.3 and up</td>\n",
       "    </tr>\n",
       "    <tr>\n",
       "      <th>1</th>\n",
       "      <td>Coloring book moana</td>\n",
       "      <td>ART_AND_DESIGN</td>\n",
       "      <td>3.9</td>\n",
       "      <td>967</td>\n",
       "      <td>14M</td>\n",
       "      <td>500,000+</td>\n",
       "      <td>Free</td>\n",
       "      <td>0</td>\n",
       "      <td>Everyone</td>\n",
       "      <td>Art &amp; Design;Pretend Play</td>\n",
       "      <td>January 15, 2018</td>\n",
       "      <td>2.0.0</td>\n",
       "      <td>4.0.3 and up</td>\n",
       "    </tr>\n",
       "    <tr>\n",
       "      <th>2</th>\n",
       "      <td>U Launcher Lite – FREE Live Cool Themes, Hide ...</td>\n",
       "      <td>ART_AND_DESIGN</td>\n",
       "      <td>4.7</td>\n",
       "      <td>87510</td>\n",
       "      <td>8.7M</td>\n",
       "      <td>5,000,000+</td>\n",
       "      <td>Free</td>\n",
       "      <td>0</td>\n",
       "      <td>Everyone</td>\n",
       "      <td>Art &amp; Design</td>\n",
       "      <td>August 1, 2018</td>\n",
       "      <td>1.2.4</td>\n",
       "      <td>4.0.3 and up</td>\n",
       "    </tr>\n",
       "    <tr>\n",
       "      <th>3</th>\n",
       "      <td>Sketch - Draw &amp; Paint</td>\n",
       "      <td>ART_AND_DESIGN</td>\n",
       "      <td>4.5</td>\n",
       "      <td>215644</td>\n",
       "      <td>25M</td>\n",
       "      <td>50,000,000+</td>\n",
       "      <td>Free</td>\n",
       "      <td>0</td>\n",
       "      <td>Teen</td>\n",
       "      <td>Art &amp; Design</td>\n",
       "      <td>June 8, 2018</td>\n",
       "      <td>Varies with device</td>\n",
       "      <td>4.2 and up</td>\n",
       "    </tr>\n",
       "    <tr>\n",
       "      <th>4</th>\n",
       "      <td>Pixel Draw - Number Art Coloring Book</td>\n",
       "      <td>ART_AND_DESIGN</td>\n",
       "      <td>4.3</td>\n",
       "      <td>967</td>\n",
       "      <td>2.8M</td>\n",
       "      <td>100,000+</td>\n",
       "      <td>Free</td>\n",
       "      <td>0</td>\n",
       "      <td>Everyone</td>\n",
       "      <td>Art &amp; Design;Creativity</td>\n",
       "      <td>June 20, 2018</td>\n",
       "      <td>1.1</td>\n",
       "      <td>4.4 and up</td>\n",
       "    </tr>\n",
       "  </tbody>\n",
       "</table>\n",
       "</div>"
      ],
      "text/plain": [
       "                                                 App        Category  Rating  \\\n",
       "0     Photo Editor & Candy Camera & Grid & ScrapBook  ART_AND_DESIGN     4.1   \n",
       "1                                Coloring book moana  ART_AND_DESIGN     3.9   \n",
       "2  U Launcher Lite – FREE Live Cool Themes, Hide ...  ART_AND_DESIGN     4.7   \n",
       "3                              Sketch - Draw & Paint  ART_AND_DESIGN     4.5   \n",
       "4              Pixel Draw - Number Art Coloring Book  ART_AND_DESIGN     4.3   \n",
       "\n",
       "  Reviews  Size     Installs  Type Price Content Rating  \\\n",
       "0     159   19M      10,000+  Free     0       Everyone   \n",
       "1     967   14M     500,000+  Free     0       Everyone   \n",
       "2   87510  8.7M   5,000,000+  Free     0       Everyone   \n",
       "3  215644   25M  50,000,000+  Free     0           Teen   \n",
       "4     967  2.8M     100,000+  Free     0       Everyone   \n",
       "\n",
       "                      Genres      Last Updated         Current Ver  \\\n",
       "0               Art & Design   January 7, 2018               1.0.0   \n",
       "1  Art & Design;Pretend Play  January 15, 2018               2.0.0   \n",
       "2               Art & Design    August 1, 2018               1.2.4   \n",
       "3               Art & Design      June 8, 2018  Varies with device   \n",
       "4    Art & Design;Creativity     June 20, 2018                 1.1   \n",
       "\n",
       "    Android Ver  \n",
       "0  4.0.3 and up  \n",
       "1  4.0.3 and up  \n",
       "2  4.0.3 and up  \n",
       "3    4.2 and up  \n",
       "4    4.4 and up  "
      ]
     },
     "execution_count": 5,
     "metadata": {},
     "output_type": "execute_result"
    }
   ],
   "source": [
    "df.head(5)"
   ]
  },
  {
   "cell_type": "code",
   "execution_count": 7,
   "id": "476c20bd-2a6c-42d6-b3df-9726d5ab0e7d",
   "metadata": {},
   "outputs": [
    {
     "name": "stdout",
     "output_type": "stream",
     "text": [
      "ART_AND_DESIGN\n",
      "AUTO_AND_VEHICLES\n",
      "BEAUTY\n",
      "BOOKS_AND_REFERENCE\n",
      "BUSINESS\n",
      "COMICS\n",
      "COMMUNICATION\n",
      "DATING\n",
      "EDUCATION\n",
      "ENTERTAINMENT\n",
      "EVENTS\n",
      "FINANCE\n",
      "FOOD_AND_DRINK\n",
      "HEALTH_AND_FITNESS\n",
      "HOUSE_AND_HOME\n",
      "LIBRARIES_AND_DEMO\n",
      "LIFESTYLE\n",
      "GAME\n",
      "FAMILY\n",
      "MEDICAL\n",
      "SOCIAL\n",
      "SHOPPING\n",
      "PHOTOGRAPHY\n",
      "SPORTS\n",
      "TRAVEL_AND_LOCAL\n",
      "TOOLS\n",
      "PERSONALIZATION\n",
      "PRODUCTIVITY\n",
      "PARENTING\n",
      "WEATHER\n",
      "VIDEO_PLAYERS\n",
      "NEWS_AND_MAGAZINES\n",
      "MAPS_AND_NAVIGATION\n"
     ]
    }
   ],
   "source": [
    "for i in df['Category'].unique():\n",
    "    print(i)"
   ]
  },
  {
   "cell_type": "code",
   "execution_count": 9,
   "id": "e345a074-6097-4c52-8fd9-88b7db3e4b55",
   "metadata": {},
   "outputs": [
    {
     "name": "stdout",
     "output_type": "stream",
     "text": [
      "61\n"
     ]
    }
   ],
   "source": [
    "c=0\n",
    "for i in df['Category']:\n",
    "    if(i ==\"ART_AND_DESIGN\"):\n",
    "       c+=1\n",
    "print(c)"
   ]
  },
  {
   "cell_type": "markdown",
   "id": "c9cbf01c-67bf-41d5-ac00-137e4d96f51a",
   "metadata": {},
   "source": [
    "##Q1.TOTAL NUMBER OF APPS IN EACH CATEGORY"
   ]
  },
  {
   "cell_type": "code",
   "execution_count": 11,
   "id": "50c3e799-c271-48fa-a55a-25c7a6b930b0",
   "metadata": {},
   "outputs": [
    {
     "name": "stdout",
     "output_type": "stream",
     "text": [
      "ART_AND_DESIGN : 61\n",
      "AUTO_AND_VEHICLES : 73\n",
      "BEAUTY : 42\n",
      "BOOKS_AND_REFERENCE : 178\n",
      "BUSINESS : 303\n",
      "COMICS : 58\n",
      "COMMUNICATION : 328\n",
      "DATING : 195\n",
      "EDUCATION : 155\n",
      "ENTERTAINMENT : 149\n",
      "EVENTS : 45\n",
      "FINANCE : 323\n",
      "FOOD_AND_DRINK : 109\n",
      "HEALTH_AND_FITNESS : 297\n",
      "HOUSE_AND_HOME : 76\n",
      "LIBRARIES_AND_DEMO : 64\n",
      "LIFESTYLE : 314\n",
      "GAME : 1097\n",
      "FAMILY : 1746\n",
      "MEDICAL : 350\n",
      "SOCIAL : 259\n",
      "SHOPPING : 238\n",
      "PHOTOGRAPHY : 317\n",
      "SPORTS : 319\n",
      "TRAVEL_AND_LOCAL : 226\n",
      "TOOLS : 733\n",
      "PERSONALIZATION : 312\n",
      "PRODUCTIVITY : 351\n",
      "PARENTING : 50\n",
      "WEATHER : 75\n",
      "VIDEO_PLAYERS : 160\n",
      "NEWS_AND_MAGAZINES : 233\n",
      "MAPS_AND_NAVIGATION : 124\n"
     ]
    }
   ],
   "source": [
    "for name in df['Category'].unique():\n",
    "    ct=0\n",
    "    for i in df['Category']:\n",
    "        if(i==name):\n",
    "            ct+=1\n",
    "    print(name,\":\",ct)"
   ]
  },
  {
   "cell_type": "markdown",
   "id": "dff9ec49-3f2c-4642-85d1-f537b247c82d",
   "metadata": {},
   "source": [
    "Same like above we can do it in category "
   ]
  },
  {
   "cell_type": "code",
   "execution_count": 19,
   "id": "9a21c7ff-1699-4bf5-81c3-22176b5c52de",
   "metadata": {},
   "outputs": [
    {
     "name": "stdout",
     "output_type": "stream",
     "text": [
      "{'ART_AND_DESIGN': 61, 'AUTO_AND_VEHICLES': 73, 'BEAUTY': 42, 'BOOKS_AND_REFERENCE': 178, 'BUSINESS': 303, 'COMICS': 58, 'COMMUNICATION': 328, 'DATING': 195, 'EDUCATION': 155, 'ENTERTAINMENT': 149, 'EVENTS': 45, 'FINANCE': 323, 'FOOD_AND_DRINK': 109, 'HEALTH_AND_FITNESS': 297, 'HOUSE_AND_HOME': 76, 'LIBRARIES_AND_DEMO': 64, 'LIFESTYLE': 314, 'GAME': 1097, 'FAMILY': 1746, 'MEDICAL': 350, 'SOCIAL': 259, 'SHOPPING': 238, 'PHOTOGRAPHY': 317, 'SPORTS': 319, 'TRAVEL_AND_LOCAL': 226, 'TOOLS': 733, 'PERSONALIZATION': 312, 'PRODUCTIVITY': 351, 'PARENTING': 50, 'WEATHER': 75, 'VIDEO_PLAYERS': 160, 'NEWS_AND_MAGAZINES': 233, 'MAPS_AND_NAVIGATION': 124}\n"
     ]
    }
   ],
   "source": [
    "categories= {}\n",
    "for name in df['Category'].unique():\n",
    "    ct=0\n",
    "    for i in df['Category']:\n",
    "        if (i==name):\n",
    "            ct+=1\n",
    "    categories[name]=ct\n",
    "print(categories)"
   ]
  },
  {
   "cell_type": "code",
   "execution_count": 21,
   "id": "54a5cc98-ecd5-47cc-9d19-e5daf2e04e5a",
   "metadata": {},
   "outputs": [
    {
     "data": {
      "text/plain": [
       "{'ART_AND_DESIGN': 61,\n",
       " 'AUTO_AND_VEHICLES': 73,\n",
       " 'BEAUTY': 42,\n",
       " 'BOOKS_AND_REFERENCE': 178,\n",
       " 'BUSINESS': 303,\n",
       " 'COMICS': 58,\n",
       " 'COMMUNICATION': 328,\n",
       " 'DATING': 195,\n",
       " 'EDUCATION': 155,\n",
       " 'ENTERTAINMENT': 149,\n",
       " 'EVENTS': 45,\n",
       " 'FINANCE': 323,\n",
       " 'FOOD_AND_DRINK': 109,\n",
       " 'HEALTH_AND_FITNESS': 297,\n",
       " 'HOUSE_AND_HOME': 76,\n",
       " 'LIBRARIES_AND_DEMO': 64,\n",
       " 'LIFESTYLE': 314,\n",
       " 'GAME': 1097,\n",
       " 'FAMILY': 1746,\n",
       " 'MEDICAL': 350,\n",
       " 'SOCIAL': 259,\n",
       " 'SHOPPING': 238,\n",
       " 'PHOTOGRAPHY': 317,\n",
       " 'SPORTS': 319,\n",
       " 'TRAVEL_AND_LOCAL': 226,\n",
       " 'TOOLS': 733,\n",
       " 'PERSONALIZATION': 312,\n",
       " 'PRODUCTIVITY': 351,\n",
       " 'PARENTING': 50,\n",
       " 'WEATHER': 75,\n",
       " 'VIDEO_PLAYERS': 160,\n",
       " 'NEWS_AND_MAGAZINES': 233,\n",
       " 'MAPS_AND_NAVIGATION': 124}"
      ]
     },
     "execution_count": 21,
     "metadata": {},
     "output_type": "execute_result"
    }
   ],
   "source": [
    "categories"
   ]
  },
  {
   "cell_type": "code",
   "execution_count": 27,
   "id": "bfe2ae76-5c44-48c0-b00b-20c9d03720c4",
   "metadata": {},
   "outputs": [
    {
     "name": "stdout",
     "output_type": "stream",
     "text": [
      "ART_AND_DESIGN 61\n",
      "AUTO_AND_VEHICLES 73\n",
      "BEAUTY 42\n",
      "BOOKS_AND_REFERENCE 178\n",
      "BUSINESS 303\n",
      "COMICS 58\n",
      "COMMUNICATION 328\n",
      "DATING 195\n",
      "EDUCATION 155\n",
      "ENTERTAINMENT 149\n",
      "EVENTS 45\n",
      "FINANCE 323\n",
      "FOOD_AND_DRINK 109\n",
      "HEALTH_AND_FITNESS 297\n",
      "HOUSE_AND_HOME 76\n",
      "LIBRARIES_AND_DEMO 64\n",
      "LIFESTYLE 314\n",
      "GAME 1097\n",
      "FAMILY 1746\n",
      "MEDICAL 350\n",
      "SOCIAL 259\n",
      "SHOPPING 238\n",
      "PHOTOGRAPHY 317\n",
      "SPORTS 319\n",
      "TRAVEL_AND_LOCAL 226\n",
      "TOOLS 733\n",
      "PERSONALIZATION 312\n",
      "PRODUCTIVITY 351\n",
      "PARENTING 50\n",
      "WEATHER 75\n",
      "VIDEO_PLAYERS 160\n",
      "NEWS_AND_MAGAZINES 233\n",
      "MAPS_AND_NAVIGATION 124\n"
     ]
    }
   ],
   "source": [
    "for i in df['Category'].unique():\n",
    "    print(i,categories[i])"
   ]
  },
  {
   "cell_type": "markdown",
   "id": "c747f831-7001-48b7-be8f-c311d68d1c7a",
   "metadata": {},
   "source": [
    "##Q2.TOTAL NUMBER OF APPS IN EACH TYPE "
   ]
  },
  {
   "cell_type": "code",
   "execution_count": 29,
   "id": "d383e9dd-7518-4b18-9e61-39a297061d71",
   "metadata": {},
   "outputs": [
    {
     "name": "stdout",
     "output_type": "stream",
     "text": [
      "{'Free': 8715, 'Paid': 645}\n"
     ]
    }
   ],
   "source": [
    "types={}\n",
    "for i in df['Type'].unique():\n",
    "    ct=0\n",
    "    for j in df['Type']:\n",
    "        if (j==i):\n",
    "            ct+=1\n",
    "    types[i]=ct \n",
    "print(types)"
   ]
  },
  {
   "cell_type": "markdown",
   "id": "3e8f00cd-9418-41d9-bb67-af2d2d8e4b21",
   "metadata": {},
   "source": [
    "## Q3 TOTAL NUMBER OF APPS IN EACH CONTENT RATING "
   ]
  },
  {
   "cell_type": "code",
   "execution_count": 33,
   "id": "b11f56ce-1df0-4297-aac7-750051a46e1b",
   "metadata": {},
   "outputs": [
    {
     "name": "stdout",
     "output_type": "stream",
     "text": [
      "{'Everyone': 7414, 'Teen': 1084, 'Everyone 10+': 397, 'Mature 17+': 461, 'Adults only 18+': 3, 'Unrated': 1}\n"
     ]
    }
   ],
   "source": [
    "content_rating={}\n",
    "for i in df['Content Rating'].unique():\n",
    "    ct=0\n",
    "    for j in df['Content Rating']:\n",
    "        if (i==j):\n",
    "            ct+=1\n",
    "    content_rating[i]=ct\n",
    "print(content_rating)    "
   ]
  },
  {
   "cell_type": "code",
   "execution_count": null,
   "id": "b8f110e1-1077-4c1e-879a-bee63100233d",
   "metadata": {},
   "outputs": [],
   "source": []
  },
  {
   "cell_type": "code",
   "execution_count": 41,
   "id": "aff39d7c-5344-4c79-9a7d-8bc76ec027b3",
   "metadata": {},
   "outputs": [
    {
     "data": {
      "text/plain": [
       "count     9360\n",
       "unique       2\n",
       "top       Free\n",
       "freq      8715\n",
       "Name: Type, dtype: object"
      ]
     },
     "execution_count": 41,
     "metadata": {},
     "output_type": "execute_result"
    }
   ],
   "source": [
    "df['Type'].describe()\n",
    "#It gives you a quick summary (statistical overview) of your numerical columns in a DataFrame."
   ]
  },
  {
   "cell_type": "code",
   "execution_count": null,
   "id": "75cf302f-9262-4303-8ca3-45b6bae093ea",
   "metadata": {},
   "outputs": [],
   "source": []
  }
 ],
 "metadata": {
  "kernelspec": {
   "display_name": "Python [conda env:base] *",
   "language": "python",
   "name": "conda-base-py"
  },
  "language_info": {
   "codemirror_mode": {
    "name": "ipython",
    "version": 3
   },
   "file_extension": ".py",
   "mimetype": "text/x-python",
   "name": "python",
   "nbconvert_exporter": "python",
   "pygments_lexer": "ipython3",
   "version": "3.12.7"
  }
 },
 "nbformat": 4,
 "nbformat_minor": 5
}
